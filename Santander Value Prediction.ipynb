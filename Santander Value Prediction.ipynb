{
 "cells": [
  {
   "cell_type": "markdown",
   "id": "449fd066",
   "metadata": {},
   "source": [
    "# Case de Estudos: Santander Value Prediction\n",
    "\n",
    "Ajude Santander a identificar o valor das transações para cada cliente potencial. Esse é um primeiro passo que o Santander precisa acertar para personalizar seus serviços em grande escala.\n",
    "De acordo com uma pesquisa da Epsilon, 80% dos clientes tendem a voltar a fazer negócios com a sua empresa se a mesma entregar um serviço personalizado.\n",
    "\n",
    "<br>\n",
    "## Link para os dados e o desafio: \n",
    "\n",
    "https://www.kaggle.com/c/santander-value-prediction-challenge/data\n",
    "\n",
    "O case podera ser quebrado nas 6 partes seguintes:\n",
    "\n",
    "    Identificar o problema\n",
    "        Qual o tipo de problema(classificação, regressão, clustering)?\n",
    "    Necessidades de aplicar transformaçoes?\n",
    "        Ex: imputing de valores null, encoding de colunas string, etc\n",
    "    Separar os sets de treinamento e teste\n",
    "    Baseline\n",
    "        Achar uma baseline, um primeiro modelo para ter uma referencia\n",
    "    Escolher a metrica\n",
    "    Melhorar o resultado\n",
    "        Feature engineering, otimizaçao do modelo, hiperparametros, etc\n",
    "\n"
   ]
  },
  {
   "cell_type": "code",
   "execution_count": null,
   "id": "4634885e",
   "metadata": {},
   "outputs": [],
   "source": []
  }
 ],
 "metadata": {
  "kernelspec": {
   "display_name": "Python 3",
   "language": "python",
   "name": "python3"
  },
  "language_info": {
   "codemirror_mode": {
    "name": "ipython",
    "version": 3
   },
   "file_extension": ".py",
   "mimetype": "text/x-python",
   "name": "python",
   "nbconvert_exporter": "python",
   "pygments_lexer": "ipython3",
   "version": "3.8.8"
  }
 },
 "nbformat": 4,
 "nbformat_minor": 5
}
